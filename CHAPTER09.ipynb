{
  "nbformat": 4,
  "nbformat_minor": 0,
  "metadata": {
    "colab": {
      "provenance": []
    },
    "kernelspec": {
      "name": "python3",
      "display_name": "Python 3"
    },
    "language_info": {
      "name": "python"
    }
  },
  "cells": [
    {
      "cell_type": "markdown",
      "source": [
        "## 9-1. Restaurant\n",
        "\n",
        "Make a class called Restaurant. The `__init__()` method for Restaurant should store two attributes: a `restaurant_name` and a `cuisine_type`. Make a method called `describe_restaurant()` that prints these two pieces of information, and a method called `open_restaurant()` that prints a message indicating that the restaurant is open.\n",
        "Make an instance called restaurant from your class. Print the two attributes individually, and then call both methods."
      ],
      "metadata": {
        "id": "ls7UM4sUXDXO"
      }
    },
    {
      "cell_type": "markdown",
      "source": [
        "## 9-2. Three Restaurants \n",
        "Start with your class from Exercise 9-1. Create three different instances from the class, and call `describe_restaurant()` for each instance."
      ],
      "metadata": {
        "id": "RRBuJ_YkXB7E"
      }
    },
    {
      "cell_type": "code",
      "execution_count": null,
      "metadata": {
        "colab": {
          "base_uri": "https://localhost:8080/"
        },
        "id": "DqXqOQnawH-4",
        "outputId": "71b66612-01a9-44fe-c706-a28cc082d732"
      },
      "outputs": [
        {
          "output_type": "stream",
          "name": "stdout",
          "text": [
            "The restaurant's name is:  Masir\n",
            "The restaurant's cuisine_type is:  Fastfood\n",
            " Name: Masir, Type: Fastfood\n",
            "Masir is open.\n",
            "The restaurant's name is:  Majara\n",
            "The restaurant's cuisine_type is:  Fastfood\n",
            " Name: Majara, Type: Fastfood\n",
            "Majara is open.\n"
          ]
        }
      ],
      "source": [
        "#9-1/9-2\n",
        "class restaurant:\n",
        "  def __init__(self, name, cuisine_type):\n",
        "    self.name = name\n",
        "    self.cuisine_type = cuisine_type\n",
        "  def describe_restaurant(self):\n",
        "    print(f\" Name: {self.name}, Type: {self.cuisine_type}\")\n",
        "  def open_restaurant(self):\n",
        "    print(f\"{self.name} is open.\")\n",
        "\n",
        "masir = restaurant('Masir', 'Fastfood')\n",
        "print(\"The restaurant's name is: \", masir.name)\n",
        "print(\"The restaurant's cuisine_type is: \", masir.cuisine_type)\n",
        "masir.describe_restaurant()\n",
        "masir.open_restaurant()\n",
        "majara = restaurant('Majara', 'Fastfood')\n",
        "print(\"The restaurant's name is: \", majara.name)\n",
        "print(\"The restaurant's cuisine_type is: \", majara.cuisine_type)\n",
        "majara.describe_restaurant()\n",
        "majara.open_restaurant()\n",
        "\n",
        "    "
      ]
    },
    {
      "cell_type": "markdown",
      "source": [
        "## 9-3. Users\n",
        " Make a class called User. Create two attributes called first_name and `last_name`, and then create several other attributes that are typically stored in a user profile. Make a method called `describe_user()` that prints a summary of the user’s information. Make another method called `greet_user()` that prints a personalized greeting to the user.\n",
        "Create several instances representing different users, and call both methods for each user."
      ],
      "metadata": {
        "id": "q79xz2UIW6la"
      }
    },
    {
      "cell_type": "code",
      "source": [
        "#9-3\n",
        "class User:\n",
        "  \"\"\"\n",
        "  A simple attempt to model a user.\n",
        "  \"\"\"\n",
        "  def __init__(self, firstName, lastName):\n",
        "    self.firstName = firstName\n",
        "    self.lastName = lastName\n",
        "    \n",
        "  def describe_user(self):\n",
        "    print(f\"Name: {self.firstName}, lastName: {self.lastName}\")\n",
        "  def greet_user(self):\n",
        "    print(f\"Welcome {self.firstName} {self.lastName}!\")\n",
        "\n",
        "information = User(\"Elika\", \"Nazeri\")\n",
        "print(\"Name: \", information.firstName)\n",
        "print(\"lastName: \", information.lastName)\n",
        "information.describe_user()\n",
        "information.greet_user()\n",
        "\n",
        "user = User(\"Ilia\", \"Nazeri\")\n",
        "print(\"Name: \", user.firstName)\n",
        "print(\"lastName: \", user.lastName)\n",
        "user.describe_user()\n",
        "user.greet_user()\n",
        "\n"
      ],
      "metadata": {
        "colab": {
          "base_uri": "https://localhost:8080/"
        },
        "id": "qgCkCaOG30Yj",
        "outputId": "813dc50f-5f30-4924-ea36-2055e0056104"
      },
      "execution_count": null,
      "outputs": [
        {
          "output_type": "stream",
          "name": "stdout",
          "text": [
            "Name:  Elika\n",
            "lastName:  Nazeri\n",
            "Name: Elika, lastName: Nazeri\n",
            "Welcome Elika Nazeri!\n",
            "Name:  Ilia\n",
            "lastName:  Nazeri\n",
            "Name: Ilia, lastName: Nazeri\n",
            "Welcome Ilia Nazeri!\n"
          ]
        }
      ]
    },
    {
      "cell_type": "code",
      "source": [
        "#9-4\n",
        "class Restaurant:\n",
        "  \"\"\"\n",
        "\n",
        "  \"\"\"\n",
        "  def __init__(self, name, cuisine_type):\n",
        "    self.name = name\n",
        "    self.cuisine_type = cuisine_type\n",
        "    self.number_served = 0\n",
        "\n",
        "  def describe_restaurant(self):\n",
        "    print(f\" Name: {self.name}, Type: {self.cuisine_type}\")\n",
        "\n",
        "  def open_restaurant(self):\n",
        "    print(f\"{self.name} is open.\")\n",
        "\n",
        "  def set_number_served(self, customer_served):\n",
        "    self.number_served = customer_served\n",
        "\n",
        "  def increment_number_served(self, customer_served):\n",
        "    self.number_served += customer_served\n",
        "    \n",
        "\n",
        "\n",
        "\n",
        "\n",
        "masir = Restaurant('Masir', 'Fastfood')\n",
        "print(\"The restaurant's name is: \", masir.name)\n",
        "print(\"The restaurant's cuisine_type is: \", masir.cuisine_type)\n",
        "masir.describe_restaurant()\n",
        "masir.open_restaurant()\n",
        "majara = Restaurant('Majara', 'Fastfood')\n",
        "print(\"The restaurant's name is: \", majara.name)\n",
        "print(\"The restaurant's cuisine_type is: \", majara.cuisine_type)\n",
        "majara.describe_restaurant()\n",
        "majara.open_restaurant()\n",
        "bermonda = Restaurant('Bermonda', 'Fastfood')\n",
        "print(f\"custumer surved: {bermonda.number_served}\")\n",
        "bermonda.set_number_served(20)\n",
        "print(f\"custumer surved: {bermonda.number_served}\")\n",
        "bermonda.increment_number_served(25)\n",
        "print(f\"customer served: {bermonda.number_served}\")\n",
        "\n",
        "    "
      ],
      "metadata": {
        "id": "qcr23_tc7Mj4",
        "colab": {
          "base_uri": "https://localhost:8080/"
        },
        "outputId": "b47f3660-20e4-4abe-aa99-77cc2cbea924"
      },
      "execution_count": null,
      "outputs": [
        {
          "output_type": "stream",
          "name": "stdout",
          "text": [
            "The restaurant's name is:  Masir\n",
            "The restaurant's cuisine_type is:  Fastfood\n",
            " Name: Masir, Type: Fastfood\n",
            "Masir is open.\n",
            "The restaurant's name is:  Majara\n",
            "The restaurant's cuisine_type is:  Fastfood\n",
            " Name: Majara, Type: Fastfood\n",
            "Majara is open.\n",
            "custumer surved: 0\n",
            "custumer surved: 20\n",
            "customer served: 45\n"
          ]
        }
      ]
    },
    {
      "cell_type": "code",
      "source": [
        "#9-5\n",
        "class User:\n",
        "  \"\"\"\n",
        "  A simple attempt to model a user.\n",
        "  \"\"\"\n",
        "  def __init__(self, firstName, lastName, login_attempts):\n",
        "    self.firstName = firstName\n",
        "    self.lastName = lastName\n",
        "    self.number = 0\n",
        "    \n",
        "  def describe_user(self):\n",
        "    print(f\"Name: {self.firstName}, lastName: {self.lastName}\")\n",
        "\n",
        "  def greet_user(self):\n",
        "    print(f\"Welcome {self.firstName} {self.lastName}!\")\n",
        "\n",
        "  def increment_login_attempts(self, number):\n",
        "    self.number += 1\n",
        "    print(f\"login_attempts: {self.number}\")\n",
        "\n",
        "\n",
        "information = User(\"Elika\", \"Nazeri\", 2)\n",
        "print(\"Name: \", information.firstName)\n",
        "print(\"lastName: \", information.lastName)\n",
        "information.describe_user()\n",
        "information.greet_user()\n",
        "information.increment_login_attempts(5)\n",
        "\n",
        "user = User(\"Ilia\", \"Nazeri\", 3)\n",
        "print(\"Name: \", user.firstName)\n",
        "print(\"lastName: \", user.lastName)\n",
        "user.describe_user()\n",
        "user.greet_user()\n",
        "user.increment_login_attempts(0)\n"
      ],
      "metadata": {
        "colab": {
          "base_uri": "https://localhost:8080/"
        },
        "id": "BWZ77UW0kRZr",
        "outputId": "81477f40-7309-4ba4-aea1-40e8ee127189"
      },
      "execution_count": null,
      "outputs": [
        {
          "output_type": "stream",
          "name": "stdout",
          "text": [
            "Name:  Elika\n",
            "lastName:  Nazeri\n",
            "Name: Elika, lastName: Nazeri\n",
            "Welcome Elika Nazeri!\n",
            "login_attempts: 1\n",
            "Name:  Ilia\n",
            "lastName:  Nazeri\n",
            "Name: Ilia, lastName: Nazeri\n",
            "Welcome Ilia Nazeri!\n",
            "login_attempts: 1\n"
          ]
        }
      ]
    },
    {
      "cell_type": "markdown",
      "source": [
        "9-6. Ice Cream Stand: An ice cream stand is a specific kind of restaurant. Write a class called IceCreamStand that inherits from the Restaurant class you wrote in Exercise 9-1 (page 162) or Exercise 9-4 (page 166). Either version of the class will work; just pick the one you like better. Add an attribute called flavors that stores a list of ice cream flavors. Write a method that displays these flavors. Create an instance of IceCreamStand, and call this method"
      ],
      "metadata": {
        "id": "UrVq45cDJvKZ"
      }
    },
    {
      "cell_type": "code",
      "source": [
        "#9_6\n",
        "\n",
        "class Restaurant:\n",
        "  \"\"\"\n",
        "  Restaurants are represented by their: \n",
        "    - name\n",
        "    - cuisin type\n",
        "\n",
        "  \"\"\"\n",
        "\n",
        "  def __init__(self, restaurant_name , cuisineType):\n",
        "    self.name = restaurant_name \n",
        "    self.cuisineType = cuisineType.lower()\n",
        "\n",
        "  def  describe_restaurant(self):\n",
        "    text1 = f\"Restaurant's name: {self.name}.\"\n",
        "    text2 = f\"{self.name} serves {self.cuisineType}.\"\n",
        "    print(10 * \"---\")\n",
        "    print(text1)\n",
        "    print(text2)\n",
        "    print(10 * \"---\")\n",
        "\n",
        "  def  open_restaurant(self):\n",
        "    print()\n",
        "    print(10 * \"---\")\n",
        "    text = f\"{self.name} is open now.\"\n",
        "    print(text)\n",
        "    print(10 * \"---\")\n",
        "\n",
        "\n",
        "class IceCreamStand(Restaurant):\n",
        "  def __init__(self, restaurant_name , cuisineType):\n",
        "    super().__init__(restaurant_name , cuisineType)\n",
        "    self.flavors = ['banana','orange','chocolate']\n",
        "  def show_menu(self):\n",
        "    for flavor in self.flavors:\n",
        "      print(flavor)\n",
        "\n",
        "icecream = IceCreamStand('golobolbol', 'icecream,')\n",
        "icecream.show_menu()"
      ],
      "metadata": {
        "id": "dda5S8-ehWfw",
        "colab": {
          "base_uri": "https://localhost:8080/"
        },
        "outputId": "889ad55b-40bd-4f16-bd30-b705e43b808b"
      },
      "execution_count": null,
      "outputs": [
        {
          "output_type": "stream",
          "name": "stdout",
          "text": [
            "banana\n",
            "orange\n",
            "chocolate\n"
          ]
        }
      ]
    },
    {
      "cell_type": "code",
      "source": [
        "class restaurant:\n",
        "  \"\"\"\n",
        "  Restaurants are represented by their: \n",
        "    - name\n",
        "    - cuisin type\n",
        "\n",
        "  \"\"\" \n",
        "  def __init__(self, name, cuisine_type):\n",
        "    self.name = name\n",
        "    self.cuisine_type = cuisine_type\n",
        "  def describe_restaurant(self):\n",
        "    print(f\" Name: {self.name}, Type: {self.cuisine_type}\")\n",
        "  def open_restaurant(self):\n",
        "    print(f\"{self.name} is open.\")\n",
        "class IceCreamStand(restaurant):\n",
        "  def __init__(self, name, cuisine_type):\n",
        "    super(). __init__(name, cuisine_type)\n",
        "    self.flavors = ['banana', 'chocolate', 'pineapple']\n",
        "  def show_menue(self):\n",
        "      for flavor in self.flavors:\n",
        "        print(flavor)\n",
        "\n",
        "icecream = IceCreamStand('labrit', 'ice cream')\n",
        "icecream.show_menue()         "
      ],
      "metadata": {
        "colab": {
          "base_uri": "https://localhost:8080/"
        },
        "id": "6u0ltkqrKPRZ",
        "outputId": "122b05d3-f03b-48e8-82bb-922bbba4f6ca"
      },
      "execution_count": null,
      "outputs": [
        {
          "output_type": "stream",
          "name": "stdout",
          "text": [
            "banana\n",
            "chocolate\n",
            "pineapple\n"
          ]
        }
      ]
    },
    {
      "cell_type": "markdown",
      "source": [
        "9-7. Admin: An administrator is a special kind of user. Write a class called \n",
        "Admin that inherits from the User class you wrote in Exercise 9-3 (page 162) \n",
        "or Exercise 9-5 (page 167). Add an attribute, privileges, that stores a list of \n",
        "strings like \"can add post\", \"can delete post\", \"can ban user\", and so on. \n",
        "Write a method called show_privileges() that lists the administrator’s set of \n",
        "privileges. Create an instance of Admin, and call your method."
      ],
      "metadata": {
        "id": "HI7eMNHcObOY"
      }
    },
    {
      "cell_type": "code",
      "source": [
        "#9-7\n",
        "class User:\n",
        "  \"\"\"\n",
        "  A simple attempt to model a user.\n",
        "  \"\"\"\n",
        "  def __init__(self, firstName, lastName):\n",
        "    self.firstName = firstName\n",
        "    self.lastName = lastName\n",
        "    \n",
        "  def describe_user(self):\n",
        "    print(f\"Name: {self.firstName}, lastName: {self.lastName}\")\n",
        "\n",
        "  def greet_user(self):\n",
        "    print(f\"Welcome {self.firstName} {self.lastName}!\")\n",
        "\n",
        "\n",
        "\n",
        "class Admin(User):\n",
        "  def __init__(self, firstName, lastName):\n",
        "    super().__init__(firstName, lastName)\n",
        "    self.privileges = [\"can add post\", \"can delete post\", \"can ban user\"]\n",
        "\n",
        "  def show_privileges(self):\n",
        "     for privilege in self.privileges:\n",
        "       print(privilege)\n",
        "\n",
        "\n",
        "\n",
        "admin = Admin('Elika', 'Nazeri')\n",
        "admin.show_privileges()"
      ],
      "metadata": {
        "colab": {
          "base_uri": "https://localhost:8080/"
        },
        "id": "fviikjnxOVyp",
        "outputId": "aea440e4-0da1-4855-a3a7-431dd57c53f4"
      },
      "execution_count": null,
      "outputs": [
        {
          "output_type": "stream",
          "name": "stdout",
          "text": [
            "can add post\n",
            "can delete post\n",
            "can ban user\n"
          ]
        }
      ]
    },
    {
      "cell_type": "markdown",
      "source": [
        "9-8. Privileges: Write a separate Privileges class. The class should have one \n",
        "attribute, privileges, that stores a list of strings as described in Exercise 9-7. \n",
        "Move the show_privileges() method to this class. Make a Privileges instance \n",
        "as an attribute in the Admin class. Create a new instance of Admin and use your \n",
        "method to show its privileges.\n"
      ],
      "metadata": {
        "id": "7uR3-z1cRCqT"
      }
    },
    {
      "cell_type": "code",
      "source": [
        "#9-8\n",
        "class User:\n",
        "  \"\"\"\n",
        "  A simple attempt to model a user.\n",
        "  \"\"\"\n",
        "  def __init__(self, firstName, lastName):\n",
        "    self.firstName = firstName\n",
        "    self.lastName = lastName\n",
        "    \n",
        "  def describe_user(self):\n",
        "    print(f\"Name: {self.firstName}, lastName: {self.lastName}\")\n",
        "\n",
        "  def greet_user(self):\n",
        "    print(f\"Welcome {self.firstName} {self.lastName}!\")\n",
        "\n",
        "\n",
        "\n",
        "class Privileges:\n",
        "  def __init__(self):\n",
        "    self.privileges = [\"can add post\", \"can delete post\", \"can ban user\"]\n",
        "    \n",
        "  def show_privileges(self):\n",
        "     for privilege in self.privileges:\n",
        "       print(privilege) \n",
        "\n",
        "\n",
        "\n",
        "class Admin(User):\n",
        "  def __init__(self, firstName, lastName):\n",
        "    super().__init__(firstName, lastName)\n",
        "    self.privileges = Privileges()  \n",
        "\n",
        "\n",
        "myAdmin = Admin('Elika', 'Nazeri')\n",
        "myAdmin.privileges.show_privileges()\n",
        "\n"
      ],
      "metadata": {
        "colab": {
          "base_uri": "https://localhost:8080/"
        },
        "id": "1xrLikYoRODM",
        "outputId": "6d464afe-048c-479c-91eb-70006f441c88"
      },
      "execution_count": null,
      "outputs": [
        {
          "output_type": "stream",
          "name": "stdout",
          "text": [
            "can add post\n",
            "can delete post\n",
            "can ban user\n"
          ]
        }
      ]
    },
    {
      "cell_type": "markdown",
      "source": [
        "9-9. Battery Upgrade: Use the final version of electric_car.py from this section. \n",
        "Add a method to the Battery class called upgrade_battery(). This method \n",
        "should check the battery size and set the capacity to 65 if it isn’t already. Make \n",
        "an electric car with a default battery size, call get_range() once, and then \n",
        "call get_range() a second time after upgrading the battery. You should see an \n",
        "increase in the car’s range."
      ],
      "metadata": {
        "id": "5FrgSBDaXLDy"
      }
    },
    {
      "cell_type": "code",
      "source": [
        "class Car:\n",
        " \n",
        "    def __init__(self, make, model, year):\n",
        " \n",
        "        self.make = make\n",
        "        self.model = model\n",
        "        self.year = year\n",
        "    def get_descriptive_name(self):\n",
        "\n",
        "        long_name = f\"{self.year} {self.make} {self.model}\"\n",
        "\n",
        "        return long_name.title()\n",
        "my_new_car = Car('audi', 'a4', 2024)\n",
        "print(my_new_car.get_descriptive_name())\n",
        "\n",
        "class Battery:\n",
        "    def __init__(self, battery_size=40):\n",
        "\n",
        "        self.battery_size = battery_size\n",
        "    \n",
        "    \n",
        "    def describe_battery(self):\n",
        "        print(f\"This car has a {self.battery_size}-kWh battery.\")\n",
        "\n",
        "    def get_range(self):\n",
        "        if self.battery_size == 40:\n",
        "            range = 150\n",
        "        elif self.battery_size == 65:\n",
        "            range = 225\n",
        "        print(f\"This car can go about {range} miles on a full charge.\")  \n",
        "    \n",
        "    def upgrade_battery(self):\n",
        "      print(f'capacity is {range}')\n",
        "      \n",
        "\n",
        "class ElectricCar(Car):\n",
        " \n",
        "    def __init__(self, make, model, year):\n",
        "      super().__init__(make, model, year)\n",
        "      self.battery = Battery()\n",
        "      \n",
        "my_leaf = ElectricCar('nissan', 'leaf', 2024)\n",
        "print(my_leaf.get_descriptive_name())\n",
        "my_leaf.battery.describe_battery()\n",
        "\n",
        "\n"
      ],
      "metadata": {
        "colab": {
          "base_uri": "https://localhost:8080/"
        },
        "id": "gTHRsg4UXPaN",
        "outputId": "9da5bc62-20dd-4c14-a39a-af90369b660d"
      },
      "execution_count": null,
      "outputs": [
        {
          "output_type": "stream",
          "name": "stdout",
          "text": [
            "2024 Audi A4\n",
            "2024 Nissan Leaf\n",
            "This car has a 40-kWh battery.\n"
          ]
        }
      ]
    }
  ]
}